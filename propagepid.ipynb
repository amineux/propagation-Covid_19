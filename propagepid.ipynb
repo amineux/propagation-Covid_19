{
 "cells": [
  {
   "cell_type": "markdown",
   "metadata": {},
   "source": [
    "# La propagation de l'épidimie Covid 19"
   ]
  },
  {
   "cell_type": "markdown",
   "metadata": {},
   "source": [
    "Dans notre sujet de modélisation de propagation d’une épidémie , On a voulu adapter un modèle de propagation géneral  à un environnement universitaire , avec  un model très proche de la réalité .On a divisé Cette étude à trois cas  différents :interaction sociale normale ,avec  distanciation sociale , avec quarantaine, pour pouvoir visualiser la différence entre les trois cas et conclure que le confinement plus il est stricte plus le nombre de cas redescend drastiquement pour convaincre le sceptiques de la distanciation sociale avec données concrètes  dans le cas d’université de Lille"
   ]
  },
  {
   "cell_type": "markdown",
   "metadata": {},
   "source": [
    "### Avec Interaction normale :"
   ]
  },
  {
   "cell_type": "code",
   "execution_count": 19,
   "metadata": {},
   "outputs": [
    {
     "data": {
      "image/png": "[encoded data removed]",
      "text/plain": [
       "<Figure size 432x288 with 1 Axes>"
      ]
     },
     "metadata": {},
     "output_type": "display_data"
    },
    {
     "ename": "TypeError",
     "evalue": "__init__() got an unexpected keyword argument 'Q'",
     "output_type": "error",
     "traceback": [
      "\u001b[0;31m---------------------------------------------------------------------------\u001b[0m",
      "\u001b[0;31mTypeError\u001b[0m                                 Traceback (most recent call last)",
      "\u001b[0;32m<ipython-input-19-d5f12d9e16e1>\u001b[0m in \u001b[0;36m<module>\u001b[0;34m\u001b[0m\n\u001b[1;32m     45\u001b[0m                           \u001b[0minitD_I\u001b[0m \u001b[0;34m=\u001b[0m\u001b[0;36m0\u001b[0m\u001b[0;34m,\u001b[0m\u001b[0;34m\u001b[0m\u001b[0m\n\u001b[1;32m     46\u001b[0m                           \u001b[0minitR\u001b[0m   \u001b[0;34m=\u001b[0m\u001b[0;36m0\u001b[0m\u001b[0;34m,\u001b[0m\u001b[0;34m\u001b[0m\u001b[0m\n\u001b[0;32m---> 47\u001b[0;31m                           initF   =0)\n\u001b[0m\u001b[1;32m     48\u001b[0m \u001b[0;34m\u001b[0m\u001b[0m\n\u001b[1;32m     49\u001b[0m \u001b[0;34m\u001b[0m\u001b[0m\n",
      "\u001b[0;31mTypeError\u001b[0m: __init__() got an unexpected keyword argument 'Q'"
     ]
    }
   ],
   "source": [
    "from models import *\n",
    "from networks import *\n",
    "import networkx\n",
    "from models import *\n",
    "\n",
    "\n",
    "numNodes = 20000\n",
    "baseGraph    = networkx.barabasi_albert_graph(n=numNodes, m=20)\n",
    "# Baseline normal interactions:\n",
    "G_normal     = custom_exponential_graph(baseGraph, scale=100)\n",
    "plot_degree_distn(G_normal, max_degree=90)\n",
    "# Social distancing interactions:\n",
    "\n",
    "G_distancing = custom_exponential_graph(baseGraph, scale=10)\n",
    "#plot_degree_distn(G_distancing, max_degree=40)\n",
    "# Quarantine interactions:\n",
    "G_quarantine = custom_exponential_graph(baseGraph, scale=5)\n",
    "\n",
    "#plot_degree_distn(G_quarantine, max_degree=40)\n",
    "\n",
    "model = SEIRSNetworkModel(G       =G_normal, \n",
    "                          beta    =0.155, \n",
    "                          sigma   =1/5.2, \n",
    "                          gamma   =1/12.39, \n",
    "                          mu_I    =0.0004,\n",
    "                          mu_0    =0, \n",
    "                          nu      =0, \n",
    "                          xi      =0,\n",
    "                          p       =0.5,\n",
    "                          Q       =G_quarantine, \n",
    "                          beta_D  =0.155, \n",
    "                          sigma_D =1/5.2, \n",
    "                          gamma_D =1/12.39, \n",
    "                          mu_D    =0.0004,\n",
    "                          theta_E =0, \n",
    "                          theta_I =0, \n",
    "                          phi_E   =0, \n",
    "                          phi_I   =0, \n",
    "                          psi_E   =1.0, \n",
    "                          psi_I   =1.0,\n",
    "                          q       =0.5,\n",
    "                          initI   =numNodes/100, \n",
    "                          initE   =0, \n",
    "                          initD_E =0, \n",
    "                          initD_I =0, \n",
    "                          initR   =0, \n",
    "                          initF   =0)\n",
    "\n",
    "\n",
    "checkpoints = {'t':       [20, 100], \n",
    "               'G':       [G_distancing, G_normal], \n",
    "               'p':       [0.1, 0.5], \n",
    "               'theta_E': [0.02, 0.02], \n",
    "               'theta_I': [0.02, 0.02], \n",
    "               'phi_E':   [0.2, 0.2], \n",
    "               'phi_I':   [0.2, 0.2]}\n",
    "\n",
    "\n",
    "    \n",
    "\n",
    "model.run(T=300, checkpoints=checkpoints)\n",
    "model.figure_infections(vlines=checkpoints['t'], ylim=0.15)\n",
    "ref_model = SEIRSNetworkModel(G=G_normal, beta=0.155, sigma=1/5.2, gamma=1/12.39, mu_I=0.0004, p=0.5,\n",
    "                          Q=G_quarantine, beta_D=0.155, sigma_D=1/5.2, gamma_D=1/12.39, mu_D=0.0004,\n",
    "                          theta_E=0, theta_I=0, phi_E=0, phi_I=0, psi_E=1.0, psi_I=1.0, q=0.5,\n",
    "                          initI=numNodes/100)\n",
    "ref_model.run(T=300)\n",
    "model.figure_infections(vlines=checkpoints['t'], ylim=0.2, shaded_reference_results=ref_model)\n",
    "ref_model_determ = SEIRSModel(beta=0.147, sigma=1/5.2, gamma=1/12.39, mu_I=0.0004, initI=100, initN=10000) \n",
    "ref_model_determ.run(T=300)\n",
    "model.figure_infections(vlines=checkpoints['t'], ylim=0.2, \n",
    "                        shaded_reference_results=ref_model, shaded_reference_label='network: no interventions',\n",
    "                        dashed_reference_results=ref_model_determ, dashed_reference_label='deterministic: no interventions')"
   ]
  },
  {
   "cell_type": "markdown",
   "metadata": {},
   "source": [
    "### Avec distanciation sociale :"
   ]
  },
  {
   "cell_type": "code",
   "execution_count": 16,
   "metadata": {},
   "outputs": [
    {
     "data": {
      "image/png": "[encoded data removed]",
      "text/plain": [
       "<Figure size 432x288 with 1 Axes>"
      ]
     },
     "metadata": {},
     "output_type": "display_data"
    },
    {
     "ename": "TypeError",
     "evalue": "__init__() got an unexpected keyword argument 'Q'",
     "output_type": "error",
     "traceback": [
      "\u001b[0;31m---------------------------------------------------------------------------\u001b[0m",
      "\u001b[0;31mTypeError\u001b[0m                                 Traceback (most recent call last)",
      "\u001b[0;32m<ipython-input-16-2b146880ae7c>\u001b[0m in \u001b[0;36m<module>\u001b[0;34m\u001b[0m\n\u001b[1;32m     45\u001b[0m                           \u001b[0minitD_I\u001b[0m \u001b[0;34m=\u001b[0m\u001b[0;36m0\u001b[0m\u001b[0;34m,\u001b[0m\u001b[0;34m\u001b[0m\u001b[0m\n\u001b[1;32m     46\u001b[0m                           \u001b[0minitR\u001b[0m   \u001b[0;34m=\u001b[0m\u001b[0;36m0\u001b[0m\u001b[0;34m,\u001b[0m\u001b[0;34m\u001b[0m\u001b[0m\n\u001b[0;32m---> 47\u001b[0;31m                           initF   =0)\n\u001b[0m\u001b[1;32m     48\u001b[0m \u001b[0;34m\u001b[0m\u001b[0m\n\u001b[1;32m     49\u001b[0m \u001b[0;34m\u001b[0m\u001b[0m\n",
      "\u001b[0;31mTypeError\u001b[0m: __init__() got an unexpected keyword argument 'Q'"
     ]
    }
   ],
   "source": [
    "from models import *\n",
    "from networks import *\n",
    "import networkx\n",
    "from models import *\n",
    "\n",
    "\n",
    "numNodes = 20000\n",
    "baseGraph    = networkx.barabasi_albert_graph(n=numNodes, m=20)\n",
    "# Baseline normal interactions:\n",
    "G_normal     = custom_exponential_graph(baseGraph, scale=100)\n",
    "#plot_degree_distn(G_normal, max_degree=90)\n",
    "# Social distancing interactions:\n",
    "\n",
    "G_distancing = custom_exponential_graph(baseGraph, scale=10)\n",
    "plot_degree_distn(G_distancing, max_degree=40)\n",
    "# Quarantine interactions:\n",
    "G_quarantine = custom_exponential_graph(baseGraph, scale=5)\n",
    "\n",
    "#plot_degree_distn(G_quarantine, max_degree=40)\n",
    "\n",
    "model = SEIRSNetworkModel(G       =G_normal, \n",
    "                          beta    =0.155, \n",
    "                          sigma   =1/5.2, \n",
    "                          gamma   =1/12.39, \n",
    "                          mu_I    =0.0004,\n",
    "                          mu_0    =0, \n",
    "                          nu      =0, \n",
    "                          xi      =0,\n",
    "                          p       =0.5,\n",
    "                          Q       =G_quarantine, \n",
    "                          beta_D  =0.155, \n",
    "                          sigma_D =1/5.2, \n",
    "                          gamma_D =1/12.39, \n",
    "                          mu_D    =0.0004,\n",
    "                          theta_E =0, \n",
    "                          theta_I =0, \n",
    "                          phi_E   =0, \n",
    "                          phi_I   =0, \n",
    "                          psi_E   =1.0, \n",
    "                          psi_I   =1.0,\n",
    "                          q       =0.5,\n",
    "                          initI   =numNodes/100, \n",
    "                          initE   =0, \n",
    "                          initD_E =0, \n",
    "                          initD_I =0, \n",
    "                          initR   =0, \n",
    "                          initF   =0)\n",
    "\n",
    "\n",
    "checkpoints = {'t':       [20, 100], \n",
    "               'G':       [G_distancing, G_normal], \n",
    "               'p':       [0.1, 0.5], \n",
    "               'theta_E': [0.02, 0.02], \n",
    "               'theta_I': [0.02, 0.02], \n",
    "               'phi_E':   [0.2, 0.2], \n",
    "               'phi_I':   [0.2, 0.2]}\n",
    "\n",
    "\n",
    "    \n",
    "\n",
    "model.run(T=300, checkpoints=checkpoints)\n",
    "model.figure_infections(vlines=checkpoints['t'], ylim=0.15)\n",
    "ref_model = SEIRSNetworkModel(G=G_normal, beta=0.155, sigma=1/5.2, gamma=1/12.39, mu_I=0.0004, p=0.5,\n",
    "                          Q=G_quarantine, beta_D=0.155, sigma_D=1/5.2, gamma_D=1/12.39, mu_D=0.0004,\n",
    "                          theta_E=0, theta_I=0, phi_E=0, phi_I=0, psi_E=1.0, psi_I=1.0, q=0.5,\n",
    "                          initI=numNodes/100)\n",
    "ref_model.run(T=300)\n",
    "model.figure_infections(vlines=checkpoints['t'], ylim=0.2, shaded_reference_results=ref_model)\n",
    "ref_model_determ = SEIRSModel(beta=0.147, sigma=1/5.2, gamma=1/12.39, mu_I=0.0004, initI=100, initN=10000) \n",
    "ref_model_determ.run(T=300)\n",
    "model.figure_infections(vlines=checkpoints['t'], ylim=0.2, \n",
    "                        shaded_reference_results=ref_model, shaded_reference_label='network: no interventions',\n",
    "                        dashed_reference_results=ref_model_determ, dashed_reference_label='deterministic: no interventions')"
   ]
  },
  {
   "cell_type": "markdown",
   "metadata": {},
   "source": [
    "### Avec  quarantaine :\n"
   ]
  },
  {
   "cell_type": "code",
   "execution_count": 8,
   "metadata": {},
   "outputs": [
    {
     "data": {
      "image/png": "[encoded data removed]",
      "text/plain": [
       "<Figure size 432x288 with 1 Axes>"
      ]
     },
     "metadata": {},
     "output_type": "display_data"
    },
    {
     "ename": "TypeError",
     "evalue": "__init__() got an unexpected keyword argument 'Q'",
     "output_type": "error",
     "traceback": [
      "\u001b[0;31m---------------------------------------------------------------------------\u001b[0m",
      "\u001b[0;31mTypeError\u001b[0m                                 Traceback (most recent call last)",
      "\u001b[0;32m<ipython-input-8-6cfa947453a7>\u001b[0m in \u001b[0;36m<module>\u001b[0;34m\u001b[0m\n\u001b[1;32m     45\u001b[0m                           \u001b[0minitD_I\u001b[0m \u001b[0;34m=\u001b[0m\u001b[0;36m0\u001b[0m\u001b[0;34m,\u001b[0m\u001b[0;34m\u001b[0m\u001b[0m\n\u001b[1;32m     46\u001b[0m                           \u001b[0minitR\u001b[0m   \u001b[0;34m=\u001b[0m\u001b[0;36m0\u001b[0m\u001b[0;34m,\u001b[0m\u001b[0;34m\u001b[0m\u001b[0m\n\u001b[0;32m---> 47\u001b[0;31m                           initF   =0,)\n\u001b[0m\u001b[1;32m     48\u001b[0m \u001b[0;34m\u001b[0m\u001b[0m\n\u001b[1;32m     49\u001b[0m \u001b[0;34m\u001b[0m\u001b[0m\n",
      "\u001b[0;31mTypeError\u001b[0m: __init__() got an unexpected keyword argument 'Q'"
     ]
    }
   ],
   "source": [
    "from models import *\n",
    "from networks import *\n",
    "import networkx\n",
    "from models import *\n",
    "\n",
    "\n",
    "numNodes = 20000\n",
    "baseGraph    = networkx.barabasi_albert_graph(n=numNodes, m=20)\n",
    "# Baseline normal interactions:\n",
    "G_normal     = custom_exponential_graph(baseGraph, scale=100)\n",
    "#plot_degree_distn(G_normal, max_degree=90)\n",
    "# Social distancing interactions:\n",
    "\n",
    "G_distancing = custom_exponential_graph(baseGraph, scale=10)\n",
    "#plot_degree_distn(G_distancing, max_degree=40)\n",
    "# Quarantine interactions:\n",
    "G_quarantine = custom_exponential_graph(baseGraph, scale=5)\n",
    "\n",
    "plot_degree_distn(G_quarantine, max_degree=40)\n",
    "\n",
    "model = SEIRSNetworkModel(G       =G_normal, \n",
    "                          beta    =0.155, \n",
    "                          sigma   =1/5.2, \n",
    "                          gamma   =1/12.39, \n",
    "                          mu_I    =0.0004,\n",
    "                          mu_0    =0, \n",
    "                          nu      =0, \n",
    "                          xi      =0,\n",
    "                          p       =0.5,\n",
    "                          Q       =G_quarantine, \n",
    "                          beta_D  =0.155, \n",
    "                          sigma_D =1/5.2, \n",
    "                          gamma_D =1/12.39, \n",
    "                          mu_D    =0.0004,\n",
    "                          theta_E =0, \n",
    "                          theta_I =0, \n",
    "                          phi_E   =0, \n",
    "                          phi_I   =0, \n",
    "                          psi_E   =1.0, \n",
    "                          psi_I   =1.0,\n",
    "                          q       =0.5,\n",
    "                          initI   =numNodes/100, \n",
    "                          initE   =0, \n",
    "                          initD_E =0, \n",
    "                          initD_I =0, \n",
    "                          initR   =0, \n",
    "                          initF   =0)\n",
    "\n",
    "\n",
    "checkpoints = {'t':       [20, 100], \n",
    "               'G':       [G_distancing, G_normal], \n",
    "               'p':       [0.1, 0.5], \n",
    "               'theta_E': [0.02, 0.02], \n",
    "               'theta_I': [0.02, 0.02], \n",
    "               'phi_E':   [0.2, 0.2], \n",
    "               'phi_I':   [0.2, 0.2]}\n",
    "\n",
    "\n",
    "    \n",
    "\n",
    "model.run(T=300, checkpoints=checkpoints)\n",
    "model.figure_infections(vlines=checkpoints['t'], ylim=0.15)\n",
    "ref_model = SEIRSNetworkModel(G=G_normal, beta=0.155, sigma=1/5.2, gamma=1/12.39, mu_I=0.0004, p=0.5,\n",
    "                          Q=G_quarantine, beta_D=0.155, sigma_D=1/5.2, gamma_D=1/12.39, mu_D=0.0004,\n",
    "                          theta_E=0, theta_I=0, phi_E=0, phi_I=0, psi_E=1.0, psi_I=1.0, q=0.5,\n",
    "                          initI=numNodes/100)\n",
    "ref_model.run(T=300)\n",
    "model.figure_infections(vlines=checkpoints['t'], ylim=0.2, shaded_reference_results=ref_model)\n",
    "ref_model_determ = SEIRSModel(beta=0.147, sigma=1/5.2, gamma=1/12.39, mu_I=0.0004, initI=100, initN=10000) \n",
    "ref_model_determ.run(T=300)\n",
    "model.figure_infections(vlines=checkpoints['t'], ylim=0.2, \n",
    "                        shaded_reference_results=ref_model, shaded_reference_label='network: no interventions',\n",
    "                        dashed_reference_results=ref_model_determ, dashed_reference_label='deterministic: no interventions')"
   ]
  },
  {
   "cell_type": "markdown",
   "metadata": {},
   "source": [
    "#### Dans cette deuxième partie, on va étudier la propagation de l'épidimie dans trois périodes :latente et symptomatic et dans la période d'hospitalisation en utilisant la théorie des graphes, dont les personnes sont representées par des noeuds et nous on controle leur interaction "
   ]
  },
  {
   "cell_type": "markdown",
   "metadata": {},
   "source": [
    "### Période latente"
   ]
  },
  {
   "cell_type": "code",
   "execution_count": 9,
   "metadata": {},
   "outputs": [
    {
     "name": "stdout",
     "output_type": "stream",
     "text": [
      "latent period:  mean = 2.29, std = 1.13, 95% CI = (0.63, 5.03)\n",
      "\n",
      "pre-symptomatic period:  mean = 2.89, std = 1.40, 95% CI = (0.75, 5.91)\n",
      "\n",
      "total incubation period:  mean = 5.18, std = 1.74, 95% CI = (2.50, 8.71)\n",
      "\n"
     ]
    },
    {
     "data": {
      "image/png": "[encoded data removed]",
      "text/plain": [
       "<Figure size 432x288 with 1 Axes>"
      ]
     },
     "metadata": {},
     "output_type": "display_data"
    }
   ],
   "source": [
    "\n",
    "\n",
    "from seirsplus.models import *\n",
    "from seirsplus.networks import *\n",
    "from seirsplus.sim_loops import *\n",
    "from seirsplus.utilities import *\n",
    "import networkx\n",
    "import matplotlib.pyplot as pyplot\n",
    "\n",
    "from models import *\n",
    "from networks import *\n",
    "from sim_loops import *\n",
    "from utilities import *\n",
    "\n",
    "\n",
    "NUM_COHORTS              = 4\n",
    "NUM_NODES_PER_COHORT     = 30\n",
    "NUM_TEAMS_PER_COHORT     = 2\n",
    "\n",
    "MEAN_INTRACOHORT_DEGREE  = 3\n",
    "PCT_CONTACTS_INTERCOHORT = 0.1\n",
    "\n",
    "N = NUM_NODES_PER_COHORT*NUM_COHORTS\n",
    "INIT_EXPOSED =2\n",
    "\n",
    "\"\"\"\n",
    "G_baseline, cohorts, teams = generate_workplace_contact_network(\n",
    "                                 num_cohorts=NUM_COHORTS, num_nodes_per_cohort=NUM_NODES_PER_COHORT, \n",
    "                                 num_teams_per_cohort=NUM_TEAMS_PER_COHORT,\n",
    "                                 mean_intracohort_degree=MEAN_INTRACOHORT_DEGREE, \n",
    "                                 pct_contacts_intercohort=PCT_CONTACTS_INTERCOHORT,\n",
    "                                 farz_params=({'alpha':5.0, 'gamma':5.0, 'beta':0.5, 'r':1, 'q':0.0, 'phi':10, \n",
    "                                              'b':0, 'epsilon':1e-6, 'directed': False, 'weighted': False})\n",
    "                                 network_info(G_baseline, \"Baseline\" , plot=True)\n",
    "\"\"\"\n",
    "\n",
    "\n",
    "\n",
    "#1 latent period\n",
    "latentPeriod_mean, latentPeriod_coeffvar = 3.0, 0.6\n",
    "SIGMA   = 1 / gamma_dist(latentPeriod_mean, latentPeriod_coeffvar, N)\n",
    "\n",
    "presymptomaticPeriod_mean, presymptomaticPeriod_coeffvar = 2.2, 0.5\n",
    "LAMDA   = 1 / gamma_dist(presymptomaticPeriod_mean, presymptomaticPeriod_coeffvar, N)\n",
    "\n",
    "dist_info([1/LAMDA, 1/SIGMA, 1/LAMDA+1/SIGMA], [\"latent period\", \"pre-symptomatic period\", \"total incubation period\"], plot=True, colors=['gold', 'darkorange', 'black'], reverse_plot=True)\n",
    "\n",
    "\n",
    "\n",
    "\n"
   ]
  },
  {
   "cell_type": "markdown",
   "metadata": {},
   "source": [
    "### Période symptomatic"
   ]
  },
  {
   "cell_type": "code",
   "execution_count": 10,
   "metadata": {
    "scrolled": true
   },
   "outputs": [
    {
     "name": "stdout",
     "output_type": "stream",
     "text": [
      "pre-symptomatic period:  mean = 2.29, std = 1.13, 95% CI = (0.63, 5.03)\n",
      "\n",
      "(a)symptomatic period:  mean = 2.85, std = 1.17, 95% CI = (0.98, 5.68)\n",
      "\n",
      "total infectious period:  mean = 5.15, std = 1.65, 95% CI = (2.58, 8.32)\n",
      "\n"
     ]
    },
    {
     "data": {
      "image/png": "[encoded data removed]",
      "text/plain": [
       "<Figure size 432x288 with 1 Axes>"
      ]
     },
     "metadata": {},
     "output_type": "display_data"
    }
   ],
   "source": [
    "from seirsplus.models import *\n",
    "from seirsplus.networks import *\n",
    "from seirsplus.sim_loops import *\n",
    "from seirsplus.utilities import *\n",
    "import networkx\n",
    "import matplotlib.pyplot as pyplot\n",
    "\n",
    "from models import *\n",
    "from networks import *\n",
    "from sim_loops import *\n",
    "from utilities import *\n",
    "\n",
    "\n",
    "NUM_COHORTS              = 4\n",
    "NUM_NODES_PER_COHORT     = 30\n",
    "NUM_TEAMS_PER_COHORT     = 2\n",
    "\n",
    "MEAN_INTRACOHORT_DEGREE  = 3\n",
    "PCT_CONTACTS_INTERCOHORT = 0.1\n",
    "\n",
    "N = NUM_NODES_PER_COHORT*NUM_COHORTS\n",
    "INIT_EXPOSED =2\n",
    "\n",
    "\"\"\"\n",
    "G_baseline, cohorts, teams = generate_workplace_contact_network(\n",
    "                                 num_cohorts=NUM_COHORTS, num_nodes_per_cohort=NUM_NODES_PER_COHORT, \n",
    "                                 num_teams_per_cohort=NUM_TEAMS_PER_COHORT,\n",
    "                                 mean_intracohort_degree=MEAN_INTRACOHORT_DEGREE, \n",
    "                                 pct_contacts_intercohort=PCT_CONTACTS_INTERCOHORT,\n",
    "                                 farz_params=({'alpha':5.0, 'gamma':5.0, 'beta':0.5, 'r':1, 'q':0.0, 'phi':10, \n",
    "                                              'b':0, 'epsilon':1e-6, 'directed': False, 'weighted': False})\n",
    "                                 network_info(G_baseline, \"Baseline\" , plot=True)\n",
    "\"\"\"\n",
    "\n",
    "\n",
    "\"\"\"\"\n",
    "#1 latent period\n",
    "latentPeriod_mean, latentPeriod_coeffvar = 3.0, 0.6\n",
    "SIGMA   = 1 / gamma_dist(latentPeriod_mean, latentPeriod_coeffvar, N)\n",
    "\n",
    "presymptomaticPeriod_mean, presymptomaticPeriod_coeffvar = 2.2, 0.5\n",
    "LAMDA   = 1 / gamma_dist(presymptomaticPeriod_mean, presymptomaticPeriod_coeffvar, N)\n",
    "\n",
    "dist_info([1/LAMDA, 1/SIGMA, 1/LAMDA+1/SIGMA], [\"latent period\", \"pre-symptomatic period\", \"total incubation period\"], plot=True, colors=['gold', 'darkorange', 'black'], reverse_plot=True)\n",
    "\n",
    "\n",
    "\"\"\"\n",
    "\n",
    "\n",
    "#2 symptomatic period\n",
    "\n",
    "\n",
    "symptomaticPeriod_mean, symptomaticPeriod_coeffvar = 3.0, 0.4\n",
    "GAMMA   = 1 / gamma_dist(symptomaticPeriod_mean, symptomaticPeriod_coeffvar, N)\n",
    "\n",
    "infectiousPeriod = 1/LAMDA + 1/GAMMA\n",
    "\n",
    "dist_info([1/LAMDA, 1/GAMMA, 1/LAMDA+1/GAMMA], [\"pre-symptomatic period\", \"(a)symptomatic period\", \"total infectious period\"], plot=True, colors=['darkorange', 'crimson', 'black'], reverse_plot=True)"
   ]
  },
  {
   "cell_type": "markdown",
   "metadata": {},
   "source": [
    "### Période d'hospitalisation"
   ]
  },
  {
   "cell_type": "code",
   "execution_count": 12,
   "metadata": {},
   "outputs": [
    {
     "name": "stdout",
     "output_type": "stream",
     "text": [
      "onset-to-hospitalization period:  mean = 11.40, std = 5.27, 95% CI = (4.15, 24.43)\n",
      "\n",
      "hospitalization-to-discharge period:  mean = 10.61, std = 4.77, 95% CI = (2.68, 21.26)\n",
      "\n",
      "onset-to-discharge period:  mean = 22.01, std = 7.25, 95% CI = (10.68, 38.30)\n",
      "\n"
     ]
    },
    {
     "data": {
      "image/png": "[encoded data removed]",
      "text/plain": [
       "<Figure size 432x288 with 1 Axes>"
      ]
     },
     "metadata": {},
     "output_type": "display_data"
    }
   ],
   "source": [
    "from seirsplus.models import *\n",
    "from seirsplus.networks import *\n",
    "from seirsplus.sim_loops import *\n",
    "from seirsplus.utilities import *\n",
    "import networkx\n",
    "import matplotlib.pyplot as pyplot\n",
    "\n",
    "from models import *\n",
    "from networks import *\n",
    "from sim_loops import *\n",
    "from utilities import *\n",
    "\n",
    "\n",
    "NUM_COHORTS              = 4\n",
    "NUM_NODES_PER_COHORT     = 30\n",
    "NUM_TEAMS_PER_COHORT     = 2\n",
    "\n",
    "MEAN_INTRACOHORT_DEGREE  = 3\n",
    "PCT_CONTACTS_INTERCOHORT = 0.1\n",
    "\n",
    "N = NUM_NODES_PER_COHORT*NUM_COHORTS\n",
    "INIT_EXPOSED =2\n",
    "\n",
    "\"\"\"\n",
    "G_baseline, cohorts, teams = generate_workplace_contact_network(\n",
    "                                 num_cohorts=NUM_COHORTS, num_nodes_per_cohort=NUM_NODES_PER_COHORT, \n",
    "                                 num_teams_per_cohort=NUM_TEAMS_PER_COHORT,\n",
    "                                 mean_intracohort_degree=MEAN_INTRACOHORT_DEGREE, \n",
    "                                 pct_contacts_intercohort=PCT_CONTACTS_INTERCOHORT,\n",
    "                                 farz_params=({'alpha':5.0, 'gamma':5.0, 'beta':0.5, 'r':1, 'q':0.0, 'phi':10, \n",
    "                                              'b':0, 'epsilon':1e-6, 'directed': False, 'weighted': False})\n",
    "                                 network_info(G_baseline, \"Baseline\" , plot=True)\n",
    "\"\"\"\n",
    "\n",
    "\n",
    "\"\"\"\n",
    "#1 latent period\n",
    "latentPeriod_mean, latentPeriod_coeffvar = 3.0, 0.6\n",
    "SIGMA   = 1 / gamma_dist(latentPeriod_mean, latentPeriod_coeffvar, N)\n",
    "\n",
    "presymptomaticPeriod_mean, presymptomaticPeriod_coeffvar = 2.2, 0.5\n",
    "LAMDA   = 1 / gamma_dist(presymptomaticPeriod_mean, presymptomaticPeriod_coeffvar, N)\n",
    "\n",
    "dist_info([1/LAMDA, 1/SIGMA, 1/LAMDA+1/SIGMA], [\"latent period\", \"pre-symptomatic period\", \"total incubation period\"], plot=True, colors=['gold', 'darkorange', 'black'], reverse_plot=True)\n",
    "\n",
    "\n",
    "\n",
    "\n",
    "\n",
    "#2 symptomatic period\n",
    "\n",
    "\n",
    "symptomaticPeriod_mean, symptomaticPeriod_coeffvar = 3.0, 0.4\n",
    "GAMMA   = 1 / gamma_dist(symptomaticPeriod_mean, symptomaticPeriod_coeffvar, N)\n",
    "\n",
    "infectiousPeriod = 1/LAMDA + 1/GAMMA\n",
    "\n",
    "dist_info([1/LAMDA, 1/GAMMA, 1/LAMDA+1/GAMMA], [\"pre-symptomatic period\", \"(a)symptomatic period\", \"total infectious period\"], plot=True, colors=['darkorange', 'crimson', 'black'], reverse_plot=True)\n",
    "\n",
    "\"\"\"\n",
    "\n",
    "#3 hospitalisation period\n",
    "\n",
    "\n",
    "onsetToHospitalizationPeriod_mean, onsetToHospitalizationPeriod_coeffvar = 11.0, 0.45\n",
    "ETA     = 1 / gamma_dist(onsetToHospitalizationPeriod_mean, onsetToHospitalizationPeriod_coeffvar, N)\n",
    "\n",
    "hospitalizationToDischargePeriod_mean, hospitalizationToDischargePeriod_coeffvar = 11.0, 0.45\n",
    "GAMMA_H = 1 / gamma_dist(hospitalizationToDischargePeriod_mean, hospitalizationToDischargePeriod_coeffvar, N)\n",
    "\n",
    "dist_info([1/ETA, 1/GAMMA_H, 1/ETA+1/GAMMA_H], [\"onset-to-hospitalization period\", \"hospitalization-to-discharge period\", \"onset-to-discharge period\"], plot=True, colors=['crimson', 'violet', 'black'], reverse_plot=True)"
   ]
  },
  {
   "cell_type": "code",
   "execution_count": null,
   "metadata": {},
   "outputs": [],
   "source": []
  }
 ],
 "metadata": {
  "kernelspec": {
   "display_name": "Python 3",
   "language": "python",
   "name": "python3"
  },
  "language_info": {
   "codemirror_mode": {
    "name": "ipython",
    "version": 3
   },
   "file_extension": ".py",
   "mimetype": "text/x-python",
   "name": "python",
   "nbconvert_exporter": "python",
   "pygments_lexer": "ipython3",
   "version": "3.6.3"
  }
 },
 "nbformat": 4,
 "nbformat_minor": 4
}
